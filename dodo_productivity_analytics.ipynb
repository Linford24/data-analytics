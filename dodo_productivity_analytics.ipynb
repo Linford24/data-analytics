{
 "cells": [
  {
   "cell_type": "code",
   "execution_count": null,
   "id": "26635c0e",
   "metadata": {},
   "outputs": [],
   "source": [
    "from datetime import timedelta\n",
    "# Create a timedelta object\n",
    "duration = timedelta(days=5, hours=3, minutes=30)\n",
    "# Get the total seconds\n",
    "total_seconds = duration.total_seconds()\n",
    "print(\"Total seconds:\", total_seconds)\n",
    "# Get individual components\n",
    "days = duration.days\n",
    "hours = duration.seconds // 3600  # Convert seconds to hours\n",
    "minutes = (duration.seconds // 60) % 60  # Convert remaining seconds to minutes\n",
    "seconds = duration.seconds % 60\n",
    "print(f\"Days: {days}, Hours: {hours}, Minutes: {minutes}, Seconds: {seconds}\")"
   ]
  },
  {
   "cell_type": "code",
   "execution_count": 3,
   "id": "b250548f",
   "metadata": {},
   "outputs": [
    {
     "name": "stdout",
     "output_type": "stream",
     "text": [
      "Total seconds: 271800.0\n",
      "Days: 3, hours: 3, minutes: 30, seconds: 0\n"
     ]
    }
   ],
   "source": [
    "from datetime import datetime, timedelta\n",
    "\n",
    "#Create a timedelta object\n",
    "duration = timedelta(days=3, hours=3, minutes=30)\n",
    "\n",
    "#Get total seconds\n",
    "total_seconds = duration.total_seconds()\n",
    "\n",
    "print(f\"Total seconds: {total_seconds}\")\n",
    "\n",
    "#Get other time components\n",
    "days = duration.days\n",
    "hours = duration.seconds // 3600\n",
    "minutes = (duration.seconds // 60) % 60\n",
    "seconds = duration.seconds % 60\n",
    "\n",
    "print(f\"Days: {days}, hours: {hours}, minutes: {minutes}, seconds: {seconds}\")"
   ]
  },
  {
   "cell_type": "code",
   "execution_count": 48,
   "id": "afdf92fe",
   "metadata": {},
   "outputs": [
    {
     "name": "stdout",
     "output_type": "stream",
     "text": [
      "Data successfully generated and saved\n"
     ]
    }
   ],
   "source": [
    "import pandas as pd\n",
    "import numpy as np\n",
    "import random\n",
    "\n",
    "all_df = pd.DataFrame()\n",
    "\n",
    "for _ in range(1, 1001):\n",
    "    \n",
    "    \n",
    "    \n",
    "    t_day = random.randint(1, 1000)\n",
    "    t_date = s_date + timedelta(days=t_day)\n",
    "    todays_date = t_date.strftime('%Y-%m-%d')\n",
    "\n",
    "    s_date = t_date - timedelta(days=t_day)\n",
    "    start_date = s_date.strftime('%Y-%m-%d')\n",
    "    \n",
    "    end_day = random.randint(1, 1000)\n",
    "    t_end = s_date + timedelta(days=t_day)\n",
    "    task_end = t_end.strftime('%Y-%m-%d')\n",
    "    \n",
    "    tasks_assigned = random.randint(0, 100)\n",
    "    completed_tasks = random.randint(0, tasks_assigned)\n",
    "\n",
    "    \n",
    "    tasks = [\"Omni\", \"Messenger\", \"Workplace\"]\n",
    "    task = random.choice(tasks)\n",
    "     \n",
    "    #insert a conditional block that only runs the code below if start_date is earlier than omni_end and mess_end and work_end \n",
    "    data.update({\n",
    "       \"Today\": todays_date,\n",
    "       \"Task\": task,\n",
    "       \"Start date\": start_date,\n",
    "       \"Completion date\": task_end,\n",
    "       \"Tasks Assigned\": tasks_assigned,\n",
    "      \"Completed Tasks\": completed_tasks\n",
    "    })\n",
    "    \n",
    "#Create temporary DataFrame\n",
    "new_data = pd.DataFrame([data])\n",
    "\n",
    "new_data[\"Today\"] = pd.to_datetime(new_data[\"Today\"])\n",
    "new_data[\"Start date\"] = pd.to_datetime(new_data[\"Start date\"])\n",
    "new_data[\"Completion date\"] = pd.to_datetime(new_data[\"Completion date\"])\n",
    "new_data[\"Task Completion Rate %\"] = new_data[\"Completed Tasks\"] / new_data[\"Tasks Assigned\"]\n",
    " \n",
    "current_task_time = new_data[\"Today\"] - new_data[\"Start date\"]\n",
    "total_task_time = new_data[\"Completion date\"] - new_data[\"Start date\"]\n",
    "new_data[\"Total task time\"] = total_task_time\n",
    "\n",
    "new_data[\"Time Spent on tasks %\"] = (current_task_time / total_task_time) * 100 \n",
    "    \n",
    "\n",
    "#Productivity trends based on task completion\n",
    "new_data[\"On-Time Completion\"] = new_data[\"Today\"] <= new_data[\"Completion date\"]\n",
    "\n",
    "new_data[\"Tasks Completed by deadline\"] = new_data.apply(lambda row: row[\"Completed Tasks\"] if row[\"On-Time Completion\"] else 0, axis=1)\n",
    "new_data[\"Tasks Completed after deadline\"] = new_data.apply(lambda row: row[\"Completed Tasks\"] if not row[\"On-Time Completion\"] else 0, axis=1)\n",
    "\n",
    "    \n",
    "    \n",
    "all_data = pd.concat([all_df, new_data], ignore_index=True)\n",
    "\n",
    "\n",
    "total_tasks_assigned = all_data[\"Tasks Assigned\"].sum()\n",
    "all_data[\"Workload Distribution\"] = (all_data[\"Tasks Assigned\"] / total_tasks_assigned) * 100\n",
    "all_data[\"Tasks Completed by deadline (%)\"] = (all_data[\"Tasks Completed by deadline\"] / all_data[\"Tasks Assigned\"]) * 100\n",
    "all_data[\"Tasks Completed after deadline (%)\"] = (all_data[\"Tasks Completed after deadline\"] / all_data[\"Tasks Assigned\"]) *100\n",
    "    \n",
    "\n",
    "\n",
    "all_data.to_csv(\"task_data.csv\", index=False)\n",
    "print(\"Data successfully generated and saved\")\n"
   ]
  },
  {
   "cell_type": "code",
   "execution_count": 16,
   "id": "e4953ffe",
   "metadata": {},
   "outputs": [
    {
     "name": "stdout",
     "output_type": "stream",
     "text": [
      "The task was given on 2025-03-10 and must be completed by 2025-03-20\n"
     ]
    }
   ],
   "source": [
    "y_date = datetime.today() - timedelta(days=1)\n",
    "next_10_days = y_date + timedelta(days=10)\n",
    "\n",
    "print(f\"The task was given on {y_date.strftime('%Y-%m-%d')} and must be completed by {next_10_days.strftime('%Y-%m-%d')}\")"
   ]
  },
  {
   "cell_type": "code",
   "execution_count": 13,
   "id": "912dca98",
   "metadata": {},
   "outputs": [
    {
     "name": "stdout",
     "output_type": "stream",
     "text": [
      "2025-03-11 14:46:18.822460\n"
     ]
    }
   ],
   "source": [
    "print(datetime.now())"
   ]
  },
  {
   "cell_type": "code",
   "execution_count": 36,
   "id": "e96de2d2",
   "metadata": {},
   "outputs": [
    {
     "data": {
      "text/plain": [
       "datetime.datetime(2025, 3, 14, 18, 0, 26, 970240)"
      ]
     },
     "execution_count": 36,
     "metadata": {},
     "output_type": "execute_result"
    }
   ],
   "source": [
    "datetime.today() + timedelta(days=3\n",
    "         )"
   ]
  },
  {
   "cell_type": "code",
   "execution_count": 54,
   "id": "fd4be1f4",
   "metadata": {},
   "outputs": [
    {
     "name": "stdout",
     "output_type": "stream",
     "text": [
      "Generated 10000 rows\n"
     ]
    }
   ],
   "source": [
    "import pandas as pd\n",
    "from datetime import datetime, timedelta\n",
    "import random\n",
    "\n",
    "# Initialize empty DataFrame\n",
    "all_data = pd.DataFrame()\n",
    "\n",
    "for _ in range(10):\n",
    "    try:\n",
    "        # Generate base date relative to today\n",
    "        base_date = datetime.today()\n",
    "        \n",
    "        # Generate random date offsets\n",
    "        days_offset = random.randint(1, 1000)\n",
    "        deadline_days = random.randint(1, 365)\n",
    "        today_days = random.randint(1, 365)\n",
    "        \n",
    "        \n",
    "        # Calculate valid dates\n",
    "        start_date = base_date - timedelta(days=days_offset)\n",
    "        end_date = start_date + timedelta(days=deadline_days)\n",
    "        today_date = start_date + timedelta(days=today_days)\n",
    "        \n",
    "        \n",
    "        # Only proceed if dates are valid\n",
    "        if start_date < end_date:\n",
    "            # Generate task data\n",
    "            \n",
    "            teams_collab_1 = random.choice([\"Engineering\", \"Sales\", \"Marketing\", \"Product\", \"Customer Support\"])\n",
    "            teams_collab_2 = random.choice([\"Engineering\", \"Sales\", \"Marketing\", \"Product\", \"Customer Support\"])\n",
    "            employee = random.choice([\"Kwadwo\", \"Adwoa\", \"Abena\", \"Kwabena\", \"Kwaku\", \"Akua\", \"Yaw\", \"Yaa\", \"Afia\", \"Kofi\", \"Kwame\"\n",
    "                        \"Ama\", \"Akwasi\", \"Akosua\"])\n",
    "            human_task = random.choice([\"hiring\", \"employee training\", \"performance management\",\n",
    "                              \"payroll processing\", \"employee engagement\"])\n",
    "        \n",
    "            finance_task = random.choice([\"budgeting\", \"managing invoices and payments\", \"reports\", \"compliance\", \"auditing\"])\n",
    "            sales_task = random.choice([\"lead generation\", \"customer relationship management\", \"advertising\", \"market research\", \"sales reporting\"])\n",
    "            operations_task = random.choice([\"inventory management\", \"production planning\", \"logistics and distribution\", \"quality control\", \"vendor management\"])\n",
    "            tech_task = random.choice([\"system maintenance\", \"cybersecurity\", \"software development\", \"data management\", \"data analysis\", \"data storage and backup\"])\n",
    "            customer_service_task = random.choice([\"handling inquiries\", \"issue resolution\", \"feedback collection\", \"loyalty programs\", \"order tracking\"])\n",
    "            r_and_d_task = random.choice([\"product design\", \"testing and validation\", \"innovation management\", \"patent filing\", \"collaboration with universities\"])\n",
    "            legal_compliance_task = random.choice([\"contract management\", \"regulatory compliance\", \"risk management\", \"litigation management\", \"policy development\"])\n",
    "            strategic_task = random.choice([\"mergers and acquisition\", \"scheduling meetings\", \"stakeholder communication\"])\n",
    "\n",
    "            human_task = [\"hiring\", \"employee training\", \"performance management\",\n",
    "                              \"payroll processing\", \"employee engagement\"]\n",
    "            finance_task = [\"budgeting\", \"managing invoices and payments\", \"reports\", \"compliance\", \"auditing\"]\n",
    "            sales_task = [\"lead generation\", \"customer relationship management\", \"advertising\", \"market research\", \"sales reporting\"]\n",
    "            operations_task = [\"inventory management\", \"production planning\", \"logistics and distribution\", \"quality control\", \"vendor management\"]\n",
    "            tech_task = [\"system maintenance\", \"cybersecurity\", \"software development\", \"data management\", \"data analysis\", \"data storage and backup\"]\n",
    "            customer_service_task = [\"handling inquiries\", \"issue resolution\", \"feedback collection\", \"loyalty programs\", \"order tracking\"]\n",
    "            r_and_d_task = [\"product design\", \"testing and validation\", \"innovation management\", \"patent filing\", \"collaboration with universities\"]\n",
    "            legal_compliance_task = [\"contract management\", \"regulatory compliance\", \"risk management\", \"litigation management\", \"policy development\"]\n",
    "            strategic_task = [\"mergers and acquisition\", \"scheduling meetings\", \"stakeholder communication\"]\n",
    "            \n",
    "            tasks = human_task + finance_task + sales_task + operations_task + tech_task + customer_service_task + r_and_d_task + legal_compliance_task + strategic_task\n",
    "            task = random.choice(tasks)\n",
    "            \n",
    "            if task in human_task:\n",
    "                resource = \"Human\"\n",
    "            elif task in finance_task:\n",
    "                resource = \"Finance\"\n",
    "            elif task in sales_task:\n",
    "                resource = \"Sales\"\n",
    "            elif task in operations_task:\n",
    "                resource = \"Operations\"\n",
    "            elif task in tech_task:\n",
    "                resource = \"Customer Service\"\n",
    "            elif task in r_and_d_task:\n",
    "                resource = \"Research and development\"\n",
    "            elif task in legal_compliance_task:\n",
    "                resource = \"Legal and Compliance\"\n",
    "            else:\n",
    "                resource = \"Strategic Planning\"\n",
    "\n",
    "\n",
    "            \n",
    "               \n",
    "            \n",
    "                \n",
    "            \n",
    "            number_of_messages = random.randidnt(1, 10000)\n",
    "            time_spent_on_calls = random.randint(0, 86400)\n",
    "            engagement = ((number_of_messages + time_spent_on_calls) / 96400) * 100\n",
    "            tasks_assigned = random.randint(1, 50)  # Ensure at least 1 task\n",
    "            completed_tasks = random.randint(0, tasks_assigned)\n",
    "           \n",
    "            \n",
    "            # Create new row\n",
    "            new_row = {\n",
    "                \"Employee\": employee,\n",
    "                \"Task\": task,\n",
    "                \"Today\": today_date.strftime('%Y-%m-%d'),\n",
    "                \"TeamA\": teams_collab_1,\n",
    "                \"TeamB\": teams_collab_2,\n",
    "                \"Start date\": start_date.strftime('%Y-%m-%d'),\n",
    "                \"Completion date\": end_date.strftime('%Y-%m-%d'),\n",
    "                \"Tasks Assigned\": tasks_assigned,\n",
    "                \"Completed Tasks\": completed_tasks,\n",
    "                \"Collaboration via Messages\": number_of_messages, #tentative\n",
    "                \"Collaboration via calls\": time_spent_on_calls, #tentative\n",
    "                \"Engagement Level\": engagement,\n",
    "                \"Resource Utilization\": resource\n",
    "            }\n",
    "            \n",
    "            # Create temporary DataFrame\n",
    "            temp_df = pd.DataFrame([new_row])\n",
    "            \n",
    "            # Convert date columns\n",
    "            temp_df[\"Today\"] = pd.to_datetime(temp_df[\"Today\"])\n",
    "            temp_df[\"Start date\"] = pd.to_datetime(temp_df[\"Start date\"])\n",
    "            temp_df[\"Completion date\"] = pd.to_datetime(temp_df[\"Completion date\"])\n",
    "            \n",
    "            # Calculate metrics\n",
    "            temp_df[\"Task Completion Rate %\"] = (temp_df[\"Completed Tasks\"] / temp_df[\"Tasks Assigned\"]) * 100\n",
    "            temp_df[\"Time Spent\"] = (temp_df[\"Today\"] - temp_df[\"Start date\"]).dt.days\n",
    "            temp_df[\"Total task time\"] = (temp_df[\"Completion date\"] - temp_df[\"Start date\"]).dt.days\n",
    "            temp_df[\"Time Spent on tasks %\"] = (temp_df[\"Time Spent\"] / temp_df[\"Total task time\"]) * 100\n",
    "            temp_df[\"On-Time Completion\"] = temp_df[\"Today\"] <= temp_df[\"Completion date\"]\n",
    "            \n",
    "            # Accumulate data\n",
    "            all_data = pd.concat([all_data, temp_df], ignore_index=True)\n",
    "            \n",
    "    except Exception as e:\n",
    "        print(f\"Skipping invalid data: {str(e)}\")\n",
    "\n",
    "# Calculate final metrics\n",
    "if not all_data.empty:\n",
    "    all_data[\"Tasks Completed by deadline\"] = all_data.apply(\n",
    "        lambda x: x[\"Completed Tasks\"] if x[\"On-Time Completion\"] else 0, axis=1)\n",
    "    all_data[\"Tasks Completed after deadline\"] = all_data[\"Completed Tasks\"] - all_data[\"Tasks Completed by deadline\"]\n",
    "    all_data[\"Tasks Remaining\"] = all_data[\"Tasks Assigned\"] - (all_data[\"Tasks Completed after deadline\"] + all_data[\"Tasks Completed by deadline\"])\n",
    "    \n",
    "    total_tasks = all_data[\"Tasks Assigned\"].sum()\n",
    "    all_data[\"Workload Distribution\"] = (all_data[\"Tasks Assigned\"] / total_tasks) * 100\n",
    "    all_data[\"Tasks Completed by deadline (%)\"] = (all_data[\"Tasks Completed by deadline\"] / all_data[\"Tasks Assigned\"]) * 100\n",
    "    all_data[\"Tasks Completed after deadline (%)\"] = (all_data[\"Tasks Completed after deadline\"] / all_data[\"Tasks Assigned\"]) * 100\n",
    "\n",
    "# Save to CSV\n",
    "all_data.to_csv(\"main1_data.csv\", index=False)\n",
    "\n",
    "print(f\"Generated {len(all_data)} rows\")"
   ]
  },
  {
   "cell_type": "code",
   "execution_count": 50,
   "id": "105e6be5",
   "metadata": {},
   "outputs": [
    {
     "name": "stdout",
     "output_type": "stream",
     "text": [
      "272 days, 0:00:00\n"
     ]
    }
   ],
   "source": [
    "start_date = base_date - timedelta(days=days_offset)\n",
    "end_date = start_date + timedelta(days=deadline_days)\n",
    "todays_date = end_date - start_date\n",
    "\n",
    "print(todays_date)"
   ]
  },
  {
   "cell_type": "code",
   "execution_count": 2,
   "id": "693c6009",
   "metadata": {},
   "outputs": [
    {
     "name": "stdout",
     "output_type": "stream",
     "text": [
      "['hiring', 'employee training', 'performance management', 'payroll processing', 'employee engagement', 'budgeting', 'managing invoices and payments', 'reports', 'compliance', 'auditing']\n"
     ]
    }
   ],
   "source": [
    "\n",
    "employee = ([\"Kwadwo\", \"Adwoa\", \"Abena\", \"Kwabena\", \"Kwaku\", \"Akua\", \"Yaw\", \"Yaa\", \"Afia\", \"Kofi\", \"Kwame\"\n",
    "                        \"Ama\", \"Akwasi\", \"Akosua\"])\n",
    "human_task = [\"hiring\", \"employee training\", \"performance management\",\n",
    "                              \"payroll processing\", \"employee engagement\"]\n",
    "finance_task = [\"budgeting\", \"managing invoices and payments\", \"reports\", \"compliance\", \"auditing\"]\n",
    "sales_task = [\"lead generation\", \"customer relationship management\", \"advertising\", \"market research\", \"sales reporting\"]\n",
    "operations_task = [\"inventory management\", \"production planning\", \"logistics and distribution\", \"quality control\", \"vendor management\"]\n",
    "tech_task = [\"system maintenance\", \"cybersecurity\", \"software development\", \"data management\", \"data analysis\", \"data storage and backup\"]\n",
    "customer_service_task = [\"handling inquiries\", \"issue resolution\", \"feedback collection\", \"loyalty programs\", \"order tracking\"]\n",
    "r_and_d_task = [\"product design\", \"testing and validation\", \"innovation management\", \"patent filing\", \"collaboration with universities\"]\n",
    "legal_compliance_task = [\"contract management\", \"regulatory compliance\", \"risk management\", \"litigation management\", \"policy development\"]\n",
    "strategic_task = [\"mergers and acquisition\", \"scheduling meetings\", \"stakeholder communication\"]\n",
    "\n",
    "task = human_task + finance_task\n",
    "\n",
    "print(task)"
   ]
  },
  {
   "cell_type": "code",
   "execution_count": 1,
   "id": "1363aabb",
   "metadata": {},
   "outputs": [],
   "source": [
    "import pandas as pd\n",
    "import numpy as np \n",
    "import seaborn as sns\n",
    "import matplotlib.pyplot as plt\n",
    "from datetime import datetime, timedelta\n",
    "import random\n"
   ]
  },
  {
   "cell_type": "code",
   "execution_count": 2,
   "id": "283b3fcc",
   "metadata": {},
   "outputs": [],
   "source": [
    "df = pd.read_csv(\"main_data.csv\")"
   ]
  },
  {
   "cell_type": "code",
   "execution_count": 4,
   "id": "6f4e68c2",
   "metadata": {},
   "outputs": [
    {
     "ename": "AttributeError",
     "evalue": "module 'random' has no attribute 'ranidnt'",
     "output_type": "error",
     "traceback": [
      "\u001b[1;31m---------------------------------------------------------------------------\u001b[0m",
      "\u001b[1;31mAttributeError\u001b[0m                            Traceback (most recent call last)",
      "Cell \u001b[1;32mIn[4], line 2\u001b[0m\n\u001b[0;32m      1\u001b[0m teams \u001b[38;5;241m=\u001b[39m [\u001b[38;5;124m\"\u001b[39m\u001b[38;5;124mEngineering\u001b[39m\u001b[38;5;124m\"\u001b[39m, \u001b[38;5;124m\"\u001b[39m\u001b[38;5;124mSales\u001b[39m\u001b[38;5;124m\"\u001b[39m, \u001b[38;5;124m\"\u001b[39m\u001b[38;5;124mMarketing\u001b[39m\u001b[38;5;124m\"\u001b[39m, \u001b[38;5;124m\"\u001b[39m\u001b[38;5;124mProduct\u001b[39m\u001b[38;5;124m\"\u001b[39m, \u001b[38;5;124m\"\u001b[39m\u001b[38;5;124mCustomer Support\u001b[39m\u001b[38;5;124m\"\u001b[39m]\n\u001b[1;32m----> 2\u001b[0m number_of_messages \u001b[38;5;241m=\u001b[39m \u001b[43mrandom\u001b[49m\u001b[38;5;241;43m.\u001b[39;49m\u001b[43mranidnt\u001b[49m(\u001b[38;5;241m1\u001b[39m, \u001b[38;5;241m10000\u001b[39m)\n\u001b[0;32m      3\u001b[0m start_date \u001b[38;5;241m=\u001b[39m datetime(\u001b[38;5;241m2024\u001b[39m, \u001b[38;5;241m1\u001b[39m, \u001b[38;5;241m1\u001b[39m) \u001b[38;5;66;03m#Start time\u001b[39;00m\n\u001b[0;32m      4\u001b[0m end_date \u001b[38;5;241m=\u001b[39m datetime(\u001b[38;5;241m2025\u001b[39m, \u001b[38;5;241m12\u001b[39m, \u001b[38;5;241m31\u001b[39m)\n",
      "\u001b[1;31mAttributeError\u001b[0m: module 'random' has no attribute 'ranidnt'"
     ]
    }
   ],
   "source": [
    "\n",
    "\n",
    "\n"
   ]
  },
  {
   "cell_type": "code",
   "execution_count": 8,
   "id": "1b75c89c",
   "metadata": {},
   "outputs": [
    {
     "name": "stdout",
     "output_type": "stream",
     "text": [
      "The call started at: 2024-01-07 14:45:43.004693 and ended at 2024-05-03 04:34:17.683145\n"
     ]
    }
   ],
   "source": [
    "start_date = datetime(2024, 1, 1) #Start time\n",
    "end_date = datetime(2025, 12, 31)\n",
    "date_difference = (end_date - start_date).total_seconds()\n",
    "\n",
    "half_date_difference = date_difference / 2\n",
    "\n",
    "random_seconds = random.uniform(0, date_difference)\n",
    "half_random_seconds = random.uniform(0, half_date_difference)\n",
    "\n",
    "\n",
    "\n",
    "print(f\"The call started at: {call_start_time} and ended at {call_end_time}\")"
   ]
  },
  {
   "cell_type": "code",
   "execution_count": 6,
   "id": "f186bc39",
   "metadata": {},
   "outputs": [
    {
     "data": {
      "text/plain": [
       "31536000.0"
      ]
     },
     "execution_count": 6,
     "metadata": {},
     "output_type": "execute_result"
    }
   ],
   "source": [
    "date_difference/2"
   ]
  },
  {
   "cell_type": "code",
   "execution_count": 9,
   "id": "0dbcf192",
   "metadata": {},
   "outputs": [
    {
     "data": {
      "text/plain": [
       "86400"
      ]
     },
     "execution_count": 9,
     "metadata": {},
     "output_type": "execute_result"
    }
   ],
   "source": [
    "24*60*60"
   ]
  },
  {
   "cell_type": "code",
   "execution_count": null,
   "id": "38011a63",
   "metadata": {},
   "outputs": [],
   "source": [
    "human_task = random.choice([\"hiring\", \"employee training\", \"performance management\",\n",
    "                  \"payroll processing\", \"employee engagement\"])\n",
    "strategic_task = random.choice([\"mergers and acquisition\", \"scheduling meetings\", \"stakeholder communication\"])\n",
    "\n",
    "        \n",
    "finance_task = random.choice([\"budgeting\", \"managing invoices and payments\", \"reports\", \"compliance\", \"auditing\"])\n",
    "sales_task = random.choice([\"lead generation\", \"customer relationship management\", \"advertising\", \"market research\", \"sales reporting\"])\n",
    "operations_task = random.choice([\"inventory management\", \"production planning\", \"logistics and distribution\", \"quality control\", \"vendor management\"])\n",
    "tech_task = random.choice([\"system maintenance\", \"cybersecurity\", \"software development\", \"data management\", \"data analysis\", \"data storage and backup\"])\n",
    "customer_service_task = random.choice([\"handling inquiries\", \"issue resolution\", \"feedback collection\", \"loyalty programs\", \"order tracking\"])\n",
    "r_and_d_task = random.choice([\"product design\", \"testing and validation\", \"innovation management\", \"patent filing\", \"collaboration with universities\"])\n",
    "legal_compliance_task = random.choice([\"contract management\", \"regulatory compliance\", \"risk management\", \"litigation management\", \"policy development\"])"
   ]
  },
  {
   "cell_type": "code",
   "execution_count": null,
   "id": "56dc73b3",
   "metadata": {},
   "outputs": [],
   "source": []
  },
  {
   "cell_type": "code",
   "execution_count": null,
   "id": "7521fb8a",
   "metadata": {},
   "outputs": [],
   "source": []
  },
  {
   "cell_type": "code",
   "execution_count": null,
   "id": "39035480",
   "metadata": {},
   "outputs": [],
   "source": []
  },
  {
   "cell_type": "code",
   "execution_count": null,
   "id": "5b38efbe",
   "metadata": {},
   "outputs": [],
   "source": []
  },
  {
   "cell_type": "code",
   "execution_count": null,
   "id": "9bd91352",
   "metadata": {},
   "outputs": [],
   "source": []
  },
  {
   "cell_type": "code",
   "execution_count": null,
   "id": "ee876c34",
   "metadata": {},
   "outputs": [],
   "source": []
  },
  {
   "cell_type": "code",
   "execution_count": null,
   "id": "7be18f71",
   "metadata": {},
   "outputs": [],
   "source": []
  },
  {
   "cell_type": "code",
   "execution_count": null,
   "id": "65ea22cb",
   "metadata": {},
   "outputs": [],
   "source": []
  },
  {
   "cell_type": "code",
   "execution_count": 3,
   "id": "ac1aa336",
   "metadata": {},
   "outputs": [
    {
     "data": {
      "text/plain": [
       "datetime.timedelta(seconds=5)"
      ]
     },
     "execution_count": 3,
     "metadata": {},
     "output_type": "execute_result"
    }
   ],
   "source": [
    "timedelta(seconds=5)"
   ]
  },
  {
   "cell_type": "code",
   "execution_count": null,
   "id": "c4cfec38",
   "metadata": {},
   "outputs": [],
   "source": [
    "datetime = "
   ]
  },
  {
   "cell_type": "code",
   "execution_count": null,
   "id": "88e262e5",
   "metadata": {},
   "outputs": [],
   "source": []
  },
  {
   "cell_type": "code",
   "execution_count": null,
   "id": "350e72d7",
   "metadata": {},
   "outputs": [],
   "source": []
  },
  {
   "cell_type": "code",
   "execution_count": null,
   "id": "de32819c",
   "metadata": {},
   "outputs": [],
   "source": []
  },
  {
   "cell_type": "code",
   "execution_count": null,
   "id": "ff3e0008",
   "metadata": {},
   "outputs": [],
   "source": []
  },
  {
   "cell_type": "code",
   "execution_count": null,
   "id": "4cd21fd1",
   "metadata": {},
   "outputs": [],
   "source": []
  },
  {
   "cell_type": "code",
   "execution_count": null,
   "id": "beef757d",
   "metadata": {},
   "outputs": [],
   "source": []
  },
  {
   "cell_type": "code",
   "execution_count": null,
   "id": "3d322cb2",
   "metadata": {},
   "outputs": [],
   "source": []
  },
  {
   "cell_type": "code",
   "execution_count": null,
   "id": "0c0e39f5",
   "metadata": {},
   "outputs": [],
   "source": []
  },
  {
   "cell_type": "code",
   "execution_count": null,
   "id": "7a9a0b43",
   "metadata": {},
   "outputs": [],
   "source": []
  },
  {
   "cell_type": "code",
   "execution_count": null,
   "id": "5343b218",
   "metadata": {},
   "outputs": [],
   "source": []
  },
  {
   "cell_type": "code",
   "execution_count": null,
   "id": "7b7b3664",
   "metadata": {},
   "outputs": [],
   "source": []
  },
  {
   "cell_type": "code",
   "execution_count": null,
   "id": "6d758d3d",
   "metadata": {},
   "outputs": [],
   "source": []
  },
  {
   "cell_type": "code",
   "execution_count": null,
   "id": "e732affd",
   "metadata": {},
   "outputs": [],
   "source": []
  },
  {
   "cell_type": "code",
   "execution_count": null,
   "id": "3d7298e2",
   "metadata": {},
   "outputs": [],
   "source": []
  }
 ],
 "metadata": {
  "kernelspec": {
   "display_name": "Python (LLM)",
   "language": "python",
   "name": "llm"
  },
  "language_info": {
   "codemirror_mode": {
    "name": "ipython",
    "version": 3
   },
   "file_extension": ".py",
   "mimetype": "text/x-python",
   "name": "python",
   "nbconvert_exporter": "python",
   "pygments_lexer": "ipython3",
   "version": "3.8.18"
  }
 },
 "nbformat": 4,
 "nbformat_minor": 5
}
